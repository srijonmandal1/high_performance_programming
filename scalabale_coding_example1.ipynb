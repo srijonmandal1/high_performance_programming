{
  "nbformat": 4,
  "nbformat_minor": 0,
  "metadata": {
    "colab": {
      "provenance": []
    },
    "kernelspec": {
      "name": "python3",
      "display_name": "Python 3"
    },
    "language_info": {
      "name": "python"
    }
  },
  "cells": [
    {
      "cell_type": "code",
      "execution_count": null,
      "metadata": {
        "id": "44wdHLdP7Apx"
      },
      "outputs": [],
      "source": [
        "## Launching parallel tasks\n",
        "## It uses a pool of threads to execute calls asynchronously."
      ]
    },
    {
      "cell_type": "code",
      "source": [
        "import concurrent.futures\n",
        "import urllib.request\n",
        "\n",
        "URLS = ['http://www.foxnews.com/',\n",
        "        'http://www.cnn.com/',\n",
        "        'http://europe.wsj.com/',\n",
        "        'http://www.bbc.co.uk/',\n",
        "        'http://nonexistant-subdomain.python.org/']\n",
        "\n",
        "# Retrieve a single page and report the URL and contents\n",
        "def load_url(url, timeout):\n",
        "    with urllib.request.urlopen(url, timeout=timeout) as conn:\n",
        "        return conn.read()\n",
        "\n",
        "# We can use a with statement to ensure threads are cleaned up promptly\n",
        "with concurrent.futures.ThreadPoolExecutor(max_workers=5) as executor:\n",
        "    # Start the load operations and mark each future with its URL\n",
        "    future_to_url = {executor.submit(load_url, url, 60): url for url in URLS}\n",
        "    for future in concurrent.futures.as_completed(future_to_url):\n",
        "        url = future_to_url[future]\n",
        "        try:\n",
        "            data = future.result()\n",
        "        except Exception as exc:\n",
        "            print('%r generated an exception: %s' % (url, exc))\n",
        "        else:\n",
        "            print('%r page is %d bytes' % (url, len(data)))"
      ],
      "metadata": {
        "colab": {
          "base_uri": "https://localhost:8080/"
        },
        "id": "p1lTO2B3Nubc",
        "outputId": "7f6ef69d-9745-4eea-85f3-916e2d04e269"
      },
      "execution_count": 1,
      "outputs": [
        {
          "output_type": "stream",
          "name": "stdout",
          "text": [
            "'http://nonexistant-subdomain.python.org/' generated an exception: <urlopen error [Errno -2] Name or service not known>\n",
            "'http://www.bbc.co.uk/' page is 567352 bytes\n",
            "'http://www.foxnews.com/' page is 606721 bytes\n",
            "'http://www.cnn.com/' page is 2910953 bytes\n",
            "'http://europe.wsj.com/' generated an exception: HTTP Error 403: Forbidden\n"
          ]
        }
      ]
    },
    {
      "cell_type": "code",
      "source": [
        "## It uses a pool of processes to execute calls asynchronously."
      ],
      "metadata": {
        "id": "6rpsKM5MOO87"
      },
      "execution_count": null,
      "outputs": []
    },
    {
      "cell_type": "markdown",
      "source": [],
      "metadata": {
        "id": "cnf_7MmNOWjG"
      }
    },
    {
      "cell_type": "code",
      "source": [
        "import concurrent.futures\n",
        "import math\n",
        "\n",
        "PRIMES = [\n",
        "    112272535095293,\n",
        "    112582705942171,\n",
        "    112272535095293,\n",
        "    115280095190773,\n",
        "    115797848077099,\n",
        "    1099726899285419]\n",
        "\n",
        "def is_prime(n):\n",
        "    if n < 2:\n",
        "        return False\n",
        "    if n == 2:\n",
        "        return True\n",
        "    if n % 2 == 0:\n",
        "        return False\n",
        "\n",
        "    sqrt_n = int(math.floor(math.sqrt(n)))\n",
        "    for i in range(3, sqrt_n + 1, 2):\n",
        "        if n % i == 0:\n",
        "            return False\n",
        "    return True\n",
        "\n",
        "def main():\n",
        "    with concurrent.futures.ProcessPoolExecutor() as executor:\n",
        "        for number, prime in zip(PRIMES, executor.map(is_prime, PRIMES)):\n",
        "            print('%d is prime: %s' % (number, prime))\n",
        "\n",
        "if __name__ == '__main__':\n",
        "    main()"
      ],
      "metadata": {
        "colab": {
          "base_uri": "https://localhost:8080/"
        },
        "id": "ZRkiLc_qOXH0",
        "outputId": "aa2a74b0-fe7c-4fa7-e3bb-cd9296822b58"
      },
      "execution_count": 3,
      "outputs": [
        {
          "output_type": "stream",
          "name": "stdout",
          "text": [
            "112272535095293 is prime: True\n",
            "112582705942171 is prime: True\n",
            "112272535095293 is prime: True\n",
            "115280095190773 is prime: True\n",
            "115797848077099 is prime: True\n",
            "1099726899285419 is prime: False\n"
          ]
        }
      ]
    },
    {
      "cell_type": "markdown",
      "source": [],
      "metadata": {
        "id": "i3xxR88SNobl"
      }
    }
  ]
}